{
 "cells": [
  {
   "cell_type": "markdown",
   "id": "b6c80d3f-a7b1-4319-b92d-3835d28bd7d7",
   "metadata": {},
   "source": [
    "<div style=\"text-align: center\">\n",
    "<img src=\"500x/15-08-2020-22-500x.png\" style=\"width: 300px;\" />\n",
    "</div>"
   ]
  },
  {
   "cell_type": "code",
   "execution_count": null,
   "id": "2d23ac4b-a79f-421d-819d-f211244ba9d3",
   "metadata": {},
   "outputs": [],
   "source": []
  }
 ],
 "metadata": {
  "kernelspec": {
   "display_name": "",
   "name": ""
  },
  "language_info": {
   "name": ""
  }
 },
 "nbformat": 4,
 "nbformat_minor": 5
}
