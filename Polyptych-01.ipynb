{
 "cells": [
  {
   "cell_type": "markdown",
   "id": "b6c80d3f-a7b1-4319-b92d-3835d28bd7d7",
   "metadata": {},
   "source": [
    "<div style=\"text-align: center\">\n",
    "<img src=\"300x/15-08-2020-22-300x.png\" />\n",
    "</div>"
   ]
  }
 ],
 "metadata": {
  "kernelspec": {
   "display_name": "",
   "name": ""
  },
  "language_info": {
   "name": ""
  }
 },
 "nbformat": 4,
 "nbformat_minor": 5
}
